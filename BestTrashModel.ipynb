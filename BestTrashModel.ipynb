{
  "nbformat": 4,
  "nbformat_minor": 0,
  "metadata": {
    "colab": {
      "provenance": [],
      "gpuType": "L4"
    },
    "kernelspec": {
      "name": "python3",
      "display_name": "Python 3"
    },
    "language_info": {
      "name": "python"
    },
    "accelerator": "GPU"
  },
  "cells": [
    {
      "cell_type": "code",
      "execution_count": null,
      "metadata": {
        "id": "YP3FZtKlpxpS"
      },
      "outputs": [],
      "source": [
        "import tensorflow as tf\n",
        "from tensorflow.keras.preprocessing.image import ImageDataGenerator\n",
        "from tensorflow.keras.applications import ResNet50\n",
        "from tensorflow.keras.models import Sequential\n",
        "from tensorflow.keras.layers import Dense, Flatten, GlobalAveragePooling2D\n",
        "from tensorflow.keras.optimizers import Adam"
      ]
    },
    {
      "cell_type": "code",
      "source": [
        "!pip install torch torchvision\n",
        "!pip install yolov5  # This will install the YOLOv5 package from PyPI"
      ],
      "metadata": {
        "id": "c0VMEPvtCqpi",
        "colab": {
          "base_uri": "https://localhost:8080/",
          "height": 1000
        },
        "outputId": "87c11a77-4213-4a75-b2c7-2dcd6cbcc778"
      },
      "execution_count": null,
      "outputs": [
        {
          "output_type": "stream",
          "name": "stdout",
          "text": [
            "\u001b[0mSuccessfully installed boto3-1.33.13 botocore-1.33.13 certifi-2023.7.22 chardet-4.0.0 cycler-0.10.0 fire-0.5.0 gitdb-4.0.11 gitpython-3.1.40 idna-2.10 jmespath-1.0.1 opencv-python-4.7.0.72 opencv-python-headless-4.8.0.74 pybboxes-0.1.6 pyparsing-2.4.7 python-dotenv-1.0.0 python-magic-0.4.27 requests-toolbelt-1.0.0 roboflow-1.1.12 s3transfer-0.8.2 sahi-0.11.15 smmap-5.0.1 supervision-0.17.1 terminaltables-3.1.10 thop-0.1.1.post2209072238 ultralytics-8.0.227 yolov5-7.0.13\n"
          ]
        },
        {
          "output_type": "display_data",
          "data": {
            "application/vnd.colab-display-data+json": {
              "pip_warning": {
                "packages": [
                  "certifi",
                  "chardet",
                  "cycler",
                  "idna",
                  "pyparsing"
                ]
              }
            }
          },
          "metadata": {}
        }
      ]
    },
    {
      "cell_type": "code",
      "source": [
        "from google.colab import drive\n",
        "drive.mount('/content/drive')\n",
        "import zipfile\n",
        "import os\n",
        "import io\n",
        "from google.colab import files\n",
        "zip_file_path = '/content/drive/My Drive/archive (1).zip'\n",
        "\n",
        "\n",
        "with zipfile.ZipFile(zip_file_path, 'r') as zip_ref:\n",
        "    zip_ref.extractall('/content')  # Extract to the Colab root directory\n",
        "\n",
        "# Checking the contents of the extracted folder\n",
        "print(os.listdir('/content'))"
      ],
      "metadata": {
        "id": "sFqml8ZsCqt2",
        "colab": {
          "base_uri": "https://localhost:8080/"
        },
        "outputId": "768b1d50-9703-4e25-e5dd-36a3d78e2b2a"
      },
      "execution_count": null,
      "outputs": [
        {
          "output_type": "stream",
          "name": "stdout",
          "text": [
            "Mounted at /content/drive\n",
            "['.config', 'test', 'train', 'valid', 'README.dataset.txt', 'README.roboflow.txt', 'drive', 'data.yaml', 'sample_data']\n"
          ]
        }
      ]
    },
    {
      "cell_type": "code",
      "source": [
        "import glob\n",
        "\n",
        "# Define your classes\n",
        "classes = [\n",
        "    \"Aluminium foil\", \"Bottle\", \"Bottle cap\", \"Broken glass\", \"Can\",\n",
        "    \"Carton\", \"Cigarette\", \"Cup\", \"Lid\", \"Other litter\",\n",
        "    \"Other plastic\", \"Paper\", \"Plastic bag & wrapper\", \"Plastic bag - wrapper\",\n",
        "    \"Plastic container\", \"Pop tab\", \"Straw\", \"Styrofoam piece\", \"Unlabeled litter\"\n",
        "]\n",
        "\n",
        "\n",
        "# Define recyclability for each class (1 for recyclable, 0 for non-recyclable)\n",
        "recyclability = {\n",
        "    \"Aluminium foil\": 1, \"Bottle\": 1, \"Bottle cap\": 0, \"Broken glass\": 0, \"Can\": 1,\n",
        "    \"Carton\": 1, \"Cigarette\": 0, \"Cup\": 0, \"Lid\": 0, \"Other litter\": 0,\n",
        "    \"Other plastic\": 1, \"Paper\": 1, \"Plastic bag & wrapper\": 0, \"Plastic bag - wrapper\": 0,\n",
        "    \"Plastic container\": 1, \"Pop tab\": 0, \"Straw\": 0, \"Styrofoam piece\": 0, \"Unlabeled litter\": 0\n",
        "}\n",
        "\n",
        "\n",
        "# Path to the directory containing label files\n",
        "label_dir = '/content/train/labels'\n",
        "\n",
        "# Get all label files\n",
        "label_files = glob.glob(os.path.join(label_dir, '*.txt'))\n",
        "\n",
        "# Initialize a dictionary to hold class ID counts\n",
        "class_counts = {classname: 0 for classname in classes}\n",
        "\n",
        "# Iterate over the label files\n",
        "for file_path in label_files:\n",
        "    with open(file_path, 'r') as file:\n",
        "        lines = file.readlines()\n",
        "        for line in lines:\n",
        "            class_id = int(line.split()[0])\n",
        "            class_name = classes[class_id]\n",
        "            class_counts[class_name] += 1\n",
        "\n",
        "# Print out the counts for each class\n",
        "for class_name, count in class_counts.items():\n",
        "    print(f\"{class_name}: {count}\")"
      ],
      "metadata": {
        "id": "sewZJqzJCqwi",
        "colab": {
          "base_uri": "https://localhost:8080/"
        },
        "outputId": "f522a7c5-369d-4d2d-ce8d-5f94aeb18bdb"
      },
      "execution_count": null,
      "outputs": [
        {
          "output_type": "stream",
          "name": "stdout",
          "text": [
            "Aluminium foil: 142\n",
            "Bottle: 1318\n",
            "Bottle cap: 821\n",
            "Broken glass: 376\n",
            "Can: 714\n",
            "Carton: 662\n",
            "Cigarette: 2214\n",
            "Cup: 583\n",
            "Lid: 252\n",
            "Other litter: 356\n",
            "Other plastic: 751\n",
            "Paper: 369\n",
            "Plastic bag & wrapper: 2228\n",
            "Plastic bag - wrapper: 145\n",
            "Plastic container: 225\n",
            "Pop tab: 371\n",
            "Straw: 304\n",
            "Styrofoam piece: 1419\n",
            "Unlabeled litter: 0\n"
          ]
        }
      ]
    },
    {
      "cell_type": "code",
      "source": [
        "# Clone YOLOv5 repository\n",
        "!git clone https://github.com/ultralytics/yolov5\n",
        "\n",
        "# Navigate into the YOLOv5 folder\n",
        "%cd yolov5\n",
        "\n",
        "# Install dependencies\n",
        "!pip install Pillow==9.4.0\n",
        "!pip install -qr requirements.txt\n",
        "\n",
        "data_yaml_content = \"\"\"\n",
        "train: /content/train/images\n",
        "val: /content/valid/images\n",
        "test: /content/test/images\n",
        "\n",
        "nc: 19\n",
        "names: ['Aluminium foil', 'Bottle', 'Bottle cap', 'Broken glass', 'Can', 'Carton', 'Cigarette', 'Cup', 'Lid', 'Other litter', 'Other plastic', 'Paper', 'Plastic bag & wrapper', 'Plastic bag - wrapper', 'Plastic container', 'Pop tab', 'Straw', 'Styrofoam piece', 'Unlabeled litter']\n",
        "\"\"\"\n",
        "\n",
        "with open('/content/data.yaml', 'w') as file:\n",
        "    file.write(data_yaml_content)"
      ],
      "metadata": {
        "colab": {
          "base_uri": "https://localhost:8080/"
        },
        "id": "tiMkc-nFvj4S",
        "outputId": "6f3cb6e7-998f-4ad0-8ef7-e1b5b380b017"
      },
      "execution_count": null,
      "outputs": [
        {
          "output_type": "stream",
          "name": "stdout",
          "text": [
            "Cloning into 'yolov5'...\n",
            "remote: Enumerating objects: 16094, done.\u001b[K\n",
            "remote: Counting objects: 100% (5/5), done.\u001b[K\n",
            "remote: Compressing objects: 100% (5/5), done.\u001b[K\n",
            "remote: Total 16094 (delta 0), reused 4 (delta 0), pack-reused 16089\u001b[K\n",
            "Receiving objects: 100% (16094/16094), 14.82 MiB | 30.66 MiB/s, done.\n",
            "Resolving deltas: 100% (11023/11023), done.\n",
            "/content/yolov5\n",
            "Requirement already satisfied: Pillow==9.4.0 in /usr/local/lib/python3.10/dist-packages (9.4.0)\n",
            "\u001b[2K     \u001b[90m━━━━━━━━━━━━━━━━━━━━━━━━━━━━━━━━━━━━━━━━\u001b[0m \u001b[32m3.6/3.6 MB\u001b[0m \u001b[31m20.2 MB/s\u001b[0m eta \u001b[36m0:00:00\u001b[0m\n",
            "\u001b[?25h\u001b[31mERROR: pip's dependency resolver does not currently take into account all the packages that are installed. This behaviour is the source of the following dependency conflicts.\n",
            "imageio 2.31.6 requires pillow<10.1.0,>=8.3.2, but you have pillow 10.1.0 which is incompatible.\u001b[0m\u001b[31m\n",
            "\u001b[0m"
          ]
        }
      ]
    },
    {
      "cell_type": "code",
      "source": [
        "!python train.py --img 416 --batch 32 --epochs 75 --data /content/data.yaml --weights yolov5m.pt --cache"
      ],
      "metadata": {
        "colab": {
          "base_uri": "https://localhost:8080/"
        },
        "id": "6mY0T3eTvj_T",
        "outputId": "a3c4484a-1229-4d90-d8bd-1a3b2f29c3ef"
      },
      "execution_count": null,
      "outputs": [
        {
          "output_type": "stream",
          "name": "stdout",
          "text": [
            "2023-12-13 00:46:34.134800: E tensorflow/compiler/xla/stream_executor/cuda/cuda_dnn.cc:9342] Unable to register cuDNN factory: Attempting to register factory for plugin cuDNN when one has already been registered\n",
            "2023-12-13 00:46:34.134846: E tensorflow/compiler/xla/stream_executor/cuda/cuda_fft.cc:609] Unable to register cuFFT factory: Attempting to register factory for plugin cuFFT when one has already been registered\n",
            "2023-12-13 00:46:34.134874: E tensorflow/compiler/xla/stream_executor/cuda/cuda_blas.cc:1518] Unable to register cuBLAS factory: Attempting to register factory for plugin cuBLAS when one has already been registered\n",
            "\u001b[34m\u001b[1mtrain: \u001b[0mweights=yolov5m.pt, cfg=, data=/content/data.yaml, hyp=data/hyps/hyp.scratch-low.yaml, epochs=75, batch_size=32, imgsz=416, rect=False, resume=False, nosave=False, noval=False, noautoanchor=False, noplots=False, evolve=None, bucket=, cache=ram, image_weights=False, device=, multi_scale=False, single_cls=False, optimizer=SGD, sync_bn=False, workers=8, project=runs/train, name=exp, exist_ok=False, quad=False, cos_lr=False, label_smoothing=0.0, patience=100, freeze=[0], save_period=-1, seed=0, local_rank=-1, entity=None, upload_dataset=False, bbox_interval=-1, artifact_alias=latest\n",
            "\u001b[34m\u001b[1mgithub: \u001b[0mup to date with https://github.com/ultralytics/yolov5 ✅\n",
            "YOLOv5 🚀 v7.0-249-gf400bba Python-3.10.12 torch-2.1.0+cu118 CUDA:0 (Tesla V100-SXM2-16GB, 16151MiB)\n",
            "\n",
            "\u001b[34m\u001b[1mhyperparameters: \u001b[0mlr0=0.01, lrf=0.01, momentum=0.937, weight_decay=0.0005, warmup_epochs=3.0, warmup_momentum=0.8, warmup_bias_lr=0.1, box=0.05, cls=0.5, cls_pw=1.0, obj=1.0, obj_pw=1.0, iou_t=0.2, anchor_t=4.0, fl_gamma=0.0, hsv_h=0.015, hsv_s=0.7, hsv_v=0.4, degrees=0.0, translate=0.1, scale=0.5, shear=0.0, perspective=0.0, flipud=0.0, fliplr=0.5, mosaic=1.0, mixup=0.0, copy_paste=0.0\n",
            "\u001b[34m\u001b[1mComet: \u001b[0mrun 'pip install comet_ml' to automatically track and visualize YOLOv5 🚀 runs in Comet\n",
            "\u001b[34m\u001b[1mTensorBoard: \u001b[0mStart with 'tensorboard --logdir runs/train', view at http://localhost:6006/\n",
            "Downloading https://ultralytics.com/assets/Arial.ttf to /root/.config/Ultralytics/Arial.ttf...\n",
            "100% 755k/755k [00:00<00:00, 36.0MB/s]\n",
            "Downloading https://github.com/ultralytics/yolov5/releases/download/v7.0/yolov5m.pt to yolov5m.pt...\n",
            "100% 40.8M/40.8M [00:00<00:00, 391MB/s]\n",
            "\n",
            "Overriding model.yaml nc=80 with nc=19\n",
            "\n",
            "                 from  n    params  module                                  arguments                     \n",
            "  0                -1  1      5280  models.common.Conv                      [3, 48, 6, 2, 2]              \n",
            "  1                -1  1     41664  models.common.Conv                      [48, 96, 3, 2]                \n",
            "  2                -1  2     65280  models.common.C3                        [96, 96, 2]                   \n",
            "  3                -1  1    166272  models.common.Conv                      [96, 192, 3, 2]               \n",
            "  4                -1  4    444672  models.common.C3                        [192, 192, 4]                 \n",
            "  5                -1  1    664320  models.common.Conv                      [192, 384, 3, 2]              \n",
            "  6                -1  6   2512896  models.common.C3                        [384, 384, 6]                 \n",
            "  7                -1  1   2655744  models.common.Conv                      [384, 768, 3, 2]              \n",
            "  8                -1  2   4134912  models.common.C3                        [768, 768, 2]                 \n",
            "  9                -1  1   1476864  models.common.SPPF                      [768, 768, 5]                 \n",
            " 10                -1  1    295680  models.common.Conv                      [768, 384, 1, 1]              \n",
            " 11                -1  1         0  torch.nn.modules.upsampling.Upsample    [None, 2, 'nearest']          \n",
            " 12           [-1, 6]  1         0  models.common.Concat                    [1]                           \n",
            " 13                -1  2   1182720  models.common.C3                        [768, 384, 2, False]          \n",
            " 14                -1  1     74112  models.common.Conv                      [384, 192, 1, 1]              \n",
            " 15                -1  1         0  torch.nn.modules.upsampling.Upsample    [None, 2, 'nearest']          \n",
            " 16           [-1, 4]  1         0  models.common.Concat                    [1]                           \n",
            " 17                -1  2    296448  models.common.C3                        [384, 192, 2, False]          \n",
            " 18                -1  1    332160  models.common.Conv                      [192, 192, 3, 2]              \n",
            " 19          [-1, 14]  1         0  models.common.Concat                    [1]                           \n",
            " 20                -1  2   1035264  models.common.C3                        [384, 384, 2, False]          \n",
            " 21                -1  1   1327872  models.common.Conv                      [384, 384, 3, 2]              \n",
            " 22          [-1, 10]  1         0  models.common.Concat                    [1]                           \n",
            " 23                -1  2   4134912  models.common.C3                        [768, 768, 2, False]          \n",
            " 24      [17, 20, 23]  1     96984  models.yolo.Detect                      [19, [[10, 13, 16, 30, 33, 23], [30, 61, 62, 45, 59, 119], [116, 90, 156, 198, 373, 326]], [192, 384, 768]]\n",
            "Model summary: 291 layers, 20944056 parameters, 20944056 gradients, 48.5 GFLOPs\n",
            "\n",
            "Transferred 475/481 items from yolov5m.pt\n",
            "\u001b[34m\u001b[1mAMP: \u001b[0mchecks passed ✅\n",
            "\u001b[34m\u001b[1moptimizer:\u001b[0m SGD(lr=0.01) with parameter groups 79 weight(decay=0.0), 82 weight(decay=0.0005), 82 bias\n",
            "\u001b[34m\u001b[1malbumentations: \u001b[0mBlur(p=0.01, blur_limit=(3, 7)), MedianBlur(p=0.01, blur_limit=(3, 7)), ToGray(p=0.01), CLAHE(p=0.01, clip_limit=(1, 4.0), tile_grid_size=(8, 8))\n",
            "\u001b[34m\u001b[1mtrain: \u001b[0mScanning /content/train/labels... 4200 images, 0 backgrounds, 0 corrupt: 100% 4200/4200 [00:00<00:00, 6732.78it/s]\n",
            "\u001b[34m\u001b[1mtrain: \u001b[0mNew cache created: /content/train/labels.cache\n",
            "\u001b[34m\u001b[1mtrain: \u001b[0mCaching images (2.0GB ram): 100% 4200/4200 [00:02<00:00, 1740.35it/s]\n",
            "\u001b[34m\u001b[1mval: \u001b[0mScanning /content/valid/labels... 1704 images, 0 backgrounds, 0 corrupt: 100% 1704/1704 [00:00<00:00, 4999.38it/s]\n",
            "\u001b[34m\u001b[1mval: \u001b[0mNew cache created: /content/valid/labels.cache\n",
            "\u001b[34m\u001b[1mval: \u001b[0mCaching images (0.8GB ram): 100% 1704/1704 [00:00<00:00, 1813.01it/s]\n",
            "\n",
            "\u001b[34m\u001b[1mAutoAnchor: \u001b[0m3.73 anchors/target, 0.917 Best Possible Recall (BPR). Anchors are a poor fit to dataset ⚠️, attempting to improve...\n",
            "\u001b[34m\u001b[1mAutoAnchor: \u001b[0mWARNING ⚠️ Extremely small objects found: 833 of 13250 labels are <3 pixels in size\n",
            "\u001b[34m\u001b[1mAutoAnchor: \u001b[0mRunning kmeans for 9 anchors on 13250 points...\n",
            "\u001b[34m\u001b[1mAutoAnchor: \u001b[0mEvolving anchors with Genetic Algorithm: fitness = 0.6845: 100% 1000/1000 [00:01<00:00, 731.66it/s]\n",
            "\u001b[34m\u001b[1mAutoAnchor: \u001b[0mthr=0.25: 0.9969 best possible recall, 4.19 anchors past thr\n",
            "\u001b[34m\u001b[1mAutoAnchor: \u001b[0mn=9, img_size=416, metric_all=0.284/0.685-mean/best, past_thr=0.480-mean: 4,4, 8,8, 15,15, 24,25, 36,36, 70,45, 47,79, 122,90, 158,181\n",
            "\u001b[34m\u001b[1mAutoAnchor: \u001b[0mDone ✅ (optional: update model *.yaml to use these anchors in the future)\n",
            "Plotting labels to runs/train/exp/labels.jpg... \n",
            "Image sizes 416 train, 416 val\n",
            "Using 8 dataloader workers\n",
            "Logging results to \u001b[1mruns/train/exp\u001b[0m\n",
            "Starting training for 75 epochs...\n",
            "\n",
            "      Epoch    GPU_mem   box_loss   obj_loss   cls_loss  Instances       Size\n",
            "       0/74      5.45G    0.09583    0.02218    0.07096         50        416: 100% 132/132 [00:24<00:00,  5.30it/s]\n",
            "                 Class     Images  Instances          P          R      mAP50   mAP50-95: 100% 27/27 [00:13<00:00,  1.94it/s]\n",
            "                   all       1704       4830      0.215      0.132     0.0326     0.0142\n",
            "\n"
            "      Epoch    GPU_mem   box_loss   obj_loss   cls_loss  Instances       Size\n",
            "      72/74      6.58G    0.03182   0.009744   0.004202         21        416: 100% 132/132 [00:19<00:00,  6.90it/s]\n",
            "                 Class     Images  Instances          P          R      mAP50   mAP50-95: 100% 27/27 [00:11<00:00,  2.27it/s]\n",
            "                   all       1704       4830       0.71      0.402      0.443      0.319\n",
            "\n",
            "      Epoch    GPU_mem   box_loss   obj_loss   cls_loss  Instances       Size\n",
            "      73/74      6.58G    0.03114   0.009618   0.004089         18        416: 100% 132/132 [00:19<00:00,  6.78it/s]\n",
            "                 Class     Images  Instances          P          R      mAP50   mAP50-95: 100% 27/27 [00:11<00:00,  2.32it/s]\n",
            "                   all       1704       4830      0.706      0.405      0.442       0.32\n",
            "\n",
            "      Epoch    GPU_mem   box_loss   obj_loss   cls_loss  Instances       Size\n",
            "      74/74      6.58G    0.03133   0.009392   0.003854         22        416: 100% 132/132 [00:19<00:00,  6.93it/s]\n",
            "                 Class     Images  Instances          P          R      mAP50   mAP50-95: 100% 27/27 [00:11<00:00,  2.36it/s]\n",
            "                   all       1704       4830      0.707      0.404       0.44      0.319\n",
            "\n",
            "75 epochs completed in 0.671 hours.\n",
            "Optimizer stripped from runs/train/exp/weights/last.pt, 42.2MB\n",
            "Optimizer stripped from runs/train/exp/weights/best.pt, 42.2MB\n",
            "\n",
            "Validating runs/train/exp/weights/best.pt...\n",
            "Fusing layers... \n",
            "Model summary: 212 layers, 20925672 parameters, 0 gradients, 48.1 GFLOPs\n",
            "                 Class     Images  Instances          P          R      mAP50   mAP50-95: 100% 27/27 [00:13<00:00,  1.96it/s]\n",
            "                   all       1704       4830       0.69      0.407      0.441      0.321\n",
            "        Aluminium foil       1704         62      0.807      0.484      0.538      0.442\n",
            "                Bottle       1704        459      0.694      0.673      0.679      0.521\n",
            "            Bottle cap       1704        320      0.785      0.526      0.587      0.363\n",
            "          Broken glass       1704        123      0.576      0.111      0.112     0.0484\n",
            "                   Can       1704        267      0.751      0.682      0.719      0.563\n",
            "                Carton       1704        263      0.631      0.494      0.555      0.465\n",
            "             Cigarette       1704        565      0.684       0.23      0.267      0.118\n",
            "                   Cup       1704        186      0.687       0.57      0.617        0.5\n",
            "                   Lid       1704         93      0.691      0.481      0.527      0.402\n",
            "          Other litter       1704        178      0.614       0.27      0.308      0.237\n",
            "         Other plastic       1704        265      0.677      0.306       0.32      0.211\n",
            "                 Paper       1704        178      0.649      0.382      0.403      0.313\n",
            " Plastic bag & wrapper       1704        854      0.663      0.607      0.589      0.423\n",
            " Plastic bag - wrapper       1704         90      0.648      0.267      0.332      0.275\n",
            "     Plastic container       1704        125       0.47      0.248      0.249       0.12\n",
            "               Pop tab       1704        120      0.809        0.4      0.449      0.307\n",
            "                 Straw       1704        113      0.892      0.319      0.364      0.283\n",
            "       Styrofoam piece       1704        569        0.7      0.274      0.329      0.179\n",
            "Results saved to \u001b[1mruns/train/exp\u001b[0m\n"
          ]
        }
      ]
    },
    {
      "cell_type": "code",
      "source": [
        "%cd /content/yolov5\n",
        "!python val.py --img 416 --weights /content/yolov5/runs/train/exp/weights/best.pt --data /content/data.yaml --task test\n"
      ],
      "metadata": {
        "colab": {
          "base_uri": "https://localhost:8080/"
        },
        "id": "q3LXUc4BvkBw",
        "outputId": "0101dd48-f2d7-4e27-bf0c-995adaf3ced3"
      },
      "execution_count": null,
      "outputs": [
        {
          "output_type": "stream",
          "name": "stdout",
          "text": [
            "/content/yolov5\n",
            "benchmarks.py\t data\t     LICENSE\t  README.zh-CN.md   setup.cfg\t    val.py\n",
            "CITATION.cff\t detect.py   models\t  requirements.txt  train.py\t    yolov5m.pt\n",
            "classify\t export.py   __pycache__  runs\t\t    tutorial.ipynb\n",
            "CONTRIBUTING.md  hubconf.py  README.md\t  segment\t    utils\n",
            "\u001b[34m\u001b[1mval: \u001b[0mdata=/content/data.yaml, weights=['/content/yolov5/runs/train/exp/weights/best.pt'], batch_size=32, imgsz=416, conf_thres=0.001, iou_thres=0.6, max_det=300, task=test, device=, workers=8, single_cls=False, augment=False, verbose=False, save_txt=False, save_hybrid=False, save_conf=False, save_json=False, project=runs/val, name=exp, exist_ok=False, half=False, dnn=False\n",
            "YOLOv5 🚀 v7.0-247-g3f02fde Python-3.10.12 torch-2.1.0+cu118 CUDA:0 (Tesla V100-SXM2-16GB, 16151MiB)\n",
            "\n",
            "Fusing layers... \n",
            "Model summary: 212 layers, 20925672 parameters, 0 gradients, 48.1 GFLOPs\n",
            "\u001b[34m\u001b[1mtest: \u001b[0mScanning /content/test/labels... 100 images, 0 backgrounds, 0 corrupt: 100% 100/100 [00:00<00:00, 5656.67it/s]\n",
            "\u001b[34m\u001b[1mtest: \u001b[0mNew cache created: /content/test/labels.cache\n",
            "                 Class     Images  Instances          P          R      mAP50   mAP50-95: 100% 4/4 [00:02<00:00,  1.50it/s]\n",
            "                   all        100        394      0.844      0.742      0.779      0.586\n",
            "        Aluminium foil        100          6      0.932          1      0.995       0.82\n",
            "                Bottle        100         26      0.956      0.885      0.962      0.751\n",
            "            Bottle cap        100         13      0.915      0.827      0.842      0.511\n",
            "          Broken glass        100         51      0.557      0.321      0.389     0.0883\n",
            "                   Can        100         19      0.797      0.825      0.897      0.695\n",
            "                Carton        100         30          1       0.47      0.618      0.535\n",
            "             Cigarette        100         55      0.744      0.418       0.48      0.212\n",
            "                   Cup        100         19       0.95      0.997      0.993       0.82\n",
            "                   Lid        100          4      0.861          1      0.995      0.877\n",
            "          Other litter        100          7      0.946      0.857      0.866      0.745\n",
            "         Other plastic        100         28      0.897      0.607      0.638       0.52\n",
            "                 Paper        100         10       0.88        0.9      0.898       0.75\n",
            " Plastic bag & wrapper        100         59      0.935      0.729      0.781      0.592\n",
            " Plastic bag - wrapper        100          2      0.845          1      0.995      0.945\n",
            "     Plastic container        100          9      0.511      0.234       0.32      0.133\n",
            "               Pop tab        100         12      0.961          1      0.995      0.692\n",
            "                 Straw        100          6       0.78      0.833      0.887      0.598\n",
            "       Styrofoam piece        100         38      0.732      0.447      0.475      0.261\n",
            "Speed: 0.3ms pre-process, 14.7ms inference, 1.7ms NMS per image at shape (32, 3, 416, 416)\n",
            "Results saved to \u001b[1mruns/val/exp\u001b[0m\n"
          ]
        }
      ]
    },
    {
      "cell_type": "code",
      "source": [
        "import torch\n",
        "import os\n",
        "import torch.quantization\n",
        "print(os.getcwd())\n",
        "!python export.py --weights runs/train/exp/weights/best.pt --img-size 416 --batch-size 1 --device 0 --opset 12 --simplify --include onnx\n",
        "!pip install onnx-tf\n",
        "!pip install onnx\n",
        "!pip install onnxruntime\n",
        "import onnx\n",
        "from onnx_tf.backend import prepare\n",
        "\n",
        "# Load your ONNX model\n",
        "onnx_model = onnx.load(\"runs/train/exp/weights/best.onnx\")  # Update the path\n",
        "\n",
        "# Prepare the TensorFlow representation\n",
        "tf_rep = prepare(onnx_model)\n",
        "\n",
        "# Export the model to a TensorFlow SavedModel\n",
        "tf_rep.export_graph(\"exported_model\")\n"
      ],
      "metadata": {
        "id": "GU7RjIRTvkEK",
        "colab": {
          "base_uri": "https://localhost:8080/"
        },
        "outputId": "eb1c4207-26a3-4041-9581-59b587f335e3"
      },
      "execution_count": null,
      "outputs": [
        {
          "output_type": "stream",
          "name": "stdout",
          "text": [
            "/content/yolov5\n",
            "\u001b[34m\u001b[1mexport: \u001b[0mdata=data/coco128.yaml, weights=['runs/train/exp/weights/best.pt'], imgsz=[416], batch_size=1, device=0, half=False, inplace=False, keras=False, optimize=False, int8=False, dynamic=False, simplify=True, opset=12, verbose=False, workspace=4, nms=False, agnostic_nms=False, topk_per_class=100, topk_all=100, iou_thres=0.45, conf_thres=0.25, include=['onnx']\n",
            "YOLOv5 🚀 v7.0-247-g3f02fde Python-3.10.12 torch-2.1.0+cu118 CUDA:0 (Tesla V100-SXM2-16GB, 16151MiB)\n",
            "\n",
            "Fusing layers... \n",
            "Model summary: 212 layers, 20925672 parameters, 0 gradients, 48.1 GFLOPs\n",
            "\n",
            "\u001b[34m\u001b[1mPyTorch:\u001b[0m starting from runs/train/exp/weights/best.pt with output shape (1, 10647, 24) (40.3 MB)\n",
            "\n",
            "\u001b[34m\u001b[1mONNX:\u001b[0m starting export with onnx 1.15.0...\n",
            "\u001b[34m\u001b[1mONNX:\u001b[0m simplifying with onnx-simplifier 0.4.35...\n",
            "\u001b[34m\u001b[1mONNX:\u001b[0m export success ✅ 2.8s, saved as runs/train/exp/weights/best.onnx (80.1 MB)\n",
            "\n",
            "Export complete (6.5s)\n",
            "Results saved to \u001b[1m/content/yolov5/runs/train/exp/weights\u001b[0m\n",
            "Detect:          python detect.py --weights runs/train/exp/weights/best.onnx \n",
            "Validate:        python val.py --weights runs/train/exp/weights/best.onnx \n",
            "PyTorch Hub:     model = torch.hub.load('ultralytics/yolov5', 'custom', 'runs/train/exp/weights/best.onnx')  \n",
            "Visualize:       https://netron.app\n",
            "Requirement already satisfied: onnx-tf in /usr/local/lib/python3.10/dist-packages (1.10.0)\n",
            "Requirement already satisfied: onnx>=1.10.2 in /usr/local/lib/python3.10/dist-packages (from onnx-tf) (1.15.0)\n",
            "Requirement already satisfied: PyYAML in /usr/local/lib/python3.10/dist-packages (from onnx-tf) (6.0.1)\n",
            "Requirement already satisfied: tensorflow-addons in /usr/local/lib/python3.10/dist-packages (from onnx-tf) (0.23.0)\n",
            "Requirement already satisfied: numpy in /usr/local/lib/python3.10/dist-packages (from onnx>=1.10.2->onnx-tf) (1.23.5)\n",
            "Requirement already satisfied: protobuf>=3.20.2 in /usr/local/lib/python3.10/dist-packages (from onnx>=1.10.2->onnx-tf) (3.20.3)\n",
            "Requirement already satisfied: packaging in /usr/local/lib/python3.10/dist-packages (from tensorflow-addons->onnx-tf) (23.2)\n",
            "Requirement already satisfied: typeguard<3.0.0,>=2.7 in /usr/local/lib/python3.10/dist-packages (from tensorflow-addons->onnx-tf) (2.13.3)\n",
            "Requirement already satisfied: onnx in /usr/local/lib/python3.10/dist-packages (1.15.0)\n",
            "Requirement already satisfied: numpy in /usr/local/lib/python3.10/dist-packages (from onnx) (1.23.5)\n",
            "Requirement already satisfied: protobuf>=3.20.2 in /usr/local/lib/python3.10/dist-packages (from onnx) (3.20.3)\n",
            "Requirement already satisfied: onnxruntime in /usr/local/lib/python3.10/dist-packages (1.16.3)\n",
            "Requirement already satisfied: coloredlogs in /usr/local/lib/python3.10/dist-packages (from onnxruntime) (15.0.1)\n",
            "Requirement already satisfied: flatbuffers in /usr/local/lib/python3.10/dist-packages (from onnxruntime) (23.5.26)\n",
            "Requirement already satisfied: numpy>=1.21.6 in /usr/local/lib/python3.10/dist-packages (from onnxruntime) (1.23.5)\n",
            "Requirement already satisfied: packaging in /usr/local/lib/python3.10/dist-packages (from onnxruntime) (23.2)\n",
            "Requirement already satisfied: protobuf in /usr/local/lib/python3.10/dist-packages (from onnxruntime) (3.20.3)\n",
            "Requirement already satisfied: sympy in /usr/local/lib/python3.10/dist-packages (from onnxruntime) (1.12)\n",
            "Requirement already satisfied: humanfriendly>=9.1 in /usr/local/lib/python3.10/dist-packages (from coloredlogs->onnxruntime) (10.0)\n",
            "Requirement already satisfied: mpmath>=0.19 in /usr/local/lib/python3.10/dist-packages (from sympy->onnxruntime) (1.3.0)\n"
          ]
        },
        {
          "output_type": "stream",
          "name": "stderr",
          "text": [
            "WARNING:tensorflow:From /usr/local/lib/python3.10/dist-packages/tensorflow/python/util/dispatch.py:1260: resize_nearest_neighbor (from tensorflow.python.ops.image_ops_impl) is deprecated and will be removed in a future version.\n",
            "Instructions for updating:\n",
            "Use `tf.image.resize(...method=ResizeMethod.NEAREST_NEIGHBOR...)` instead.\n",
            "INFO:absl:Function `__call__` contains input name(s) x, y with unsupported characters which will be renamed to transpose_253_x, onnx_tf_prefix__model_24_mul_11_y in the SavedModel.\n",
            "INFO:absl:Found untraced functions such as gen_tensor_dict while saving (showing 1 of 1). These functions will not be directly callable after loading.\n",
            "INFO:absl:Writing fingerprint to exported_model/fingerprint.pb\n"
          ]
        }
      ]
    },
    {
      "cell_type": "code",
      "source": [
        "import tensorflow as tf\n",
        "\n",
        "# Convert the model\n",
        "converter = tf.lite.TFLiteConverter.from_saved_model(\"exported_model\")\n",
        "tflite_model = converter.convert()\n",
        "\n",
        "# Save the model\n",
        "with open('model.tflite', 'wb') as f:\n",
        "    f.write(tflite_model)\n",
        "\n",
        "from google.colab import files\n",
        "\n",
        "#files.download('model.tflite')\n",
        "files.download('exported_model')\n"
      ],
      "metadata": {
        "colab": {
          "base_uri": "https://localhost:8080/",
          "height": 34
        },
        "id": "H2qoYWQ43S79",
        "outputId": "49349ac6-8531-46ed-9b68-0eae5d72e7ee"
      },
      "execution_count": null,
      "outputs": [
        {
          "output_type": "display_data",
          "data": {
            "text/plain": [
              "<IPython.core.display.Javascript object>"
            ],
            "application/javascript": [
              "\n",
              "    async function download(id, filename, size) {\n",
              "      if (!google.colab.kernel.accessAllowed) {\n",
              "        return;\n",
              "      }\n",
              "      const div = document.createElement('div');\n",
              "      const label = document.createElement('label');\n",
              "      label.textContent = `Downloading \"${filename}\": `;\n",
              "      div.appendChild(label);\n",
              "      const progress = document.createElement('progress');\n",
              "      progress.max = size;\n",
              "      div.appendChild(progress);\n",
              "      document.body.appendChild(div);\n",
              "\n",
              "      const buffers = [];\n",
              "      let downloaded = 0;\n",
              "\n",
              "      const channel = await google.colab.kernel.comms.open(id);\n",
              "      // Send a message to notify the kernel that we're ready.\n",
              "      channel.send({})\n",
              "\n",
              "      for await (const message of channel.messages) {\n",
              "        // Send a message to notify the kernel that we're ready.\n",
              "        channel.send({})\n",
              "        if (message.buffers) {\n",
              "          for (const buffer of message.buffers) {\n",
              "            buffers.push(buffer);\n",
              "            downloaded += buffer.byteLength;\n",
              "            progress.value = downloaded;\n",
              "          }\n",
              "        }\n",
              "      }\n",
              "      const blob = new Blob(buffers, {type: 'application/binary'});\n",
              "      const a = document.createElement('a');\n",
              "      a.href = window.URL.createObjectURL(blob);\n",
              "      a.download = filename;\n",
              "      div.appendChild(a);\n",
              "      a.click();\n",
              "      div.remove();\n",
              "    }\n",
              "  "
            ]
          },
          "metadata": {}
        },
        {
          "output_type": "display_data",
          "data": {
            "text/plain": [
              "<IPython.core.display.Javascript object>"
            ],
            "application/javascript": [
              "download(\"download_117142db-b756-44cb-8949-b092442a1e48\", \"model.tflite\", 84133648)"
            ]
          },
          "metadata": {}
        }
      ]
    }
  ]
}
