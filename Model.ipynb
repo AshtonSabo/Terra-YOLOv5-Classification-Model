//I run this code in COLAB for the better GPU
import tensorflow as tf
from tensorflow.keras.preprocessing.image import ImageDataGenerator
from tensorflow.keras.applications import ResNet50
from tensorflow.keras.models import Sequential
from tensorflow.keras.layers import Dense, Flatten, GlobalAveragePooling2D
from tensorflow.keras.optimizers import Adam

!pip install torch torchvision
!pip install yolov5  # This will install the YOLOv5 package from PyPI

from google.colab import drive
drive.mount('/content/drive')
import zipfile
import os
import io
from google.colab import files
zip_file_path = '/content/drive/My Drive/archive (1).zip'


with zipfile.ZipFile(zip_file_path, 'r') as zip_ref:
    zip_ref.extractall('/content')  # Extract to the Colab root directory

# Checking the contents of the extracted folder
print(os.listdir('/content'))

import glob

# Define your classes
classes = [
    "Aluminium foil", "Bottle", "Bottle cap", "Broken glass", "Can",
    "Carton", "Cigarette", "Cup", "Lid", "Other litter",
    "Other plastic", "Paper", "Plastic bag & wrapper", "Plastic bag - wrapper",
    "Plastic container", "Pop tab", "Straw", "Styrofoam piece", "Unlabeled litter"
]


# Define recyclability for each class (1 for recyclable, 0 for non-recyclable)
recyclability = {
    "Aluminium foil": 1, "Bottle": 1, "Bottle cap": 0, "Broken glass": 0, "Can": 1,
    "Carton": 1, "Cigarette": 0, "Cup": 0, "Lid": 0, "Other litter": 0,
    "Other plastic": 1, "Paper": 1, "Plastic bag & wrapper": 0, "Plastic bag - wrapper": 0,
    "Plastic container": 1, "Pop tab": 0, "Straw": 0, "Styrofoam piece": 0, "Unlabeled litter": 0
}


# Path to the directory containing label files
label_dir = '/content/train/labels'

# Get all label files
label_files = glob.glob(os.path.join(label_dir, '*.txt'))

# Initialize a dictionary to hold class ID counts
class_counts = {classname: 0 for classname in classes}

# Iterate over the label files
for file_path in label_files:
    with open(file_path, 'r') as file:
        lines = file.readlines()
        for line in lines:
            class_id = int(line.split()[0])
            class_name = classes[class_id]
            class_counts[class_name] += 1

# Print out the counts for each class
for class_name, count in class_counts.items():
    print(f"{class_name}: {count}")

# Clone YOLOv5 repository
!git clone https://github.com/ultralytics/yolov5

# Navigate into the YOLOv5 folder
%cd yolov5

# Install dependencies
!pip install Pillow==9.4.0
!pip install -qr requirements.txt

data_yaml_content = """
train: /content/train/images
val: /content/valid/images
test: /content/test/images

nc: 19
names: ['Aluminium foil', 'Bottle', 'Bottle cap', 'Broken glass', 'Can', 'Carton', 'Cigarette', 'Cup', 'Lid', 'Other litter', 'Other plastic', 'Paper', 'Plastic bag & wrapper', 'Plastic bag - wrapper', 'Plastic container', 'Pop tab', 'Straw', 'Styrofoam piece', 'Unlabeled litter']
"""

with open('/content/data.yaml', 'w') as file:
    file.write(data_yaml_content)

//TRAIN
!python train.py --img 416 --batch 32 --epochs 75 --data /content/data.yaml --weights yolov5m.pt --cache

%cd /content/yolov5
!python val.py --img 416 --weights /content/yolov5/runs/train/exp/weights/best.pt --data /content/data.yaml --task test

//Then we export
import torch
import os
import torch.quantization
print(os.getcwd())
!python export.py --weights runs/train/exp/weights/best.pt --img-size 416 --batch-size 1 --device 0 --opset 12 --simplify --include onnx
!pip install onnx-tf
!pip install onnx
!pip install onnxruntime
import onnx
from onnx_tf.backend import prepare

# Load your ONNX model
onnx_model = onnx.load("runs/train/exp/weights/best.onnx")  # Update the path

# Prepare the TensorFlow representation
tf_rep = prepare(onnx_model)

# Export the model to a TensorFlow SavedModel
tf_rep.export_graph("exported_model")

//create tflte model for running on restrcted enviroment like RasPi 4
import tensorflow as tf

# Convert the model
converter = tf.lite.TFLiteConverter.from_saved_model("exported_model")
tflite_model = converter.convert()

# Save the model
with open('model.tflite', 'wb') as f:
    f.write(tflite_model)

from google.colab import files

#files.download('model.tflite')
files.download('exported_model')
